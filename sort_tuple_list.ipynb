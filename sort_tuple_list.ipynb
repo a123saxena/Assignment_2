{
 "cells": [
  {
   "cell_type": "code",
   "execution_count": 1,
   "metadata": {},
   "outputs": [
    {
     "name": "stdout",
     "output_type": "stream",
     "text": [
      "The list of tuples sorted in increasing order by the last element is: []\n"
     ]
    }
   ],
   "source": [
    "def element(tuple):\n",
    "    return tuple[-1]\n",
    "\n",
    "input_tuples_str = input(\"Enter a list of non-empty tuples (each tuple's elements separated by commas and tuples separated by spaces): \")\n",
    "\n",
    "input_tuples_list = [tuple(map(int, tpl.split(','))) for tpl in input_tuples_str.split()]\n",
    "\n",
    "sorted_tuples = sorted(input_tuples_list, key=element)\n",
    "\n",
    "print(f\"The list of tuples sorted in increasing order by the last element is: {sorted_tuples}\")\n"
   ]
  }
 ],
 "metadata": {
  "kernelspec": {
   "display_name": "Python 3",
   "language": "python",
   "name": "python3"
  },
  "language_info": {
   "codemirror_mode": {
    "name": "ipython",
    "version": 3
   },
   "file_extension": ".py",
   "mimetype": "text/x-python",
   "name": "python",
   "nbconvert_exporter": "python",
   "pygments_lexer": "ipython3",
   "version": "3.12.0"
  }
 },
 "nbformat": 4,
 "nbformat_minor": 2
}
